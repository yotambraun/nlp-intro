{
  "nbformat": 4,
  "nbformat_minor": 0,
  "metadata": {
    "colab": {
      "name": "nlp_basic.ipynb",
      "provenance": [],
      "collapsed_sections": []
    },
    "kernelspec": {
      "name": "python3",
      "display_name": "Python 3"
    },
    "accelerator": "GPU"
  },
  "cells": [
    {
      "cell_type": "code",
      "metadata": {
        "id": "XffMn7Bk-Mzy",
        "colab_type": "code",
        "colab": {
          "base_uri": "https://localhost:8080/",
          "height": 173
        },
        "outputId": "1c52a61b-567b-4aaf-ea15-b5031c5694ca"
      },
      "source": [
        "import requests\n",
        "from bs4 import BeautifulSoup\n",
        "import pandas as pd\n",
        "import numpy as np\n",
        "import matplotlib.pyplot as plt\n",
        "import seaborn as sns\n",
        "import os\n",
        "%matplotlib inline\n",
        "import nltk\n",
        "nltk.download('brown')\n",
        "from nltk.corpus import brown\n",
        "from nltk import sent_tokenize, word_tokenize\n",
        "nltk.download('punkt')\n",
        "from nltk.corpus import stopwords\n",
        "nltk.download('stopwords')\n",
        "from nltk.stem import PorterStemmer\n",
        "from string import punctuation\n",
        "from nltk.stem import WordNetLemmatizer\n",
        "nltk.download('wordnet')\n",
        "\n",
        "\n"
      ],
      "execution_count": 73,
      "outputs": [
        {
          "output_type": "stream",
          "text": [
            "[nltk_data] Downloading package brown to /root/nltk_data...\n",
            "[nltk_data]   Package brown is already up-to-date!\n",
            "[nltk_data] Downloading package punkt to /root/nltk_data...\n",
            "[nltk_data]   Package punkt is already up-to-date!\n",
            "[nltk_data] Downloading package stopwords to /root/nltk_data...\n",
            "[nltk_data]   Package stopwords is already up-to-date!\n",
            "[nltk_data] Downloading package wordnet to /root/nltk_data...\n",
            "[nltk_data]   Unzipping corpora/wordnet.zip.\n"
          ],
          "name": "stdout"
        },
        {
          "output_type": "execute_result",
          "data": {
            "text/plain": [
              "True"
            ]
          },
          "metadata": {
            "tags": []
          },
          "execution_count": 73
        }
      ]
    },
    {
      "cell_type": "code",
      "metadata": {
        "id": "rL4rSbz4-VrJ",
        "colab_type": "code",
        "colab": {}
      },
      "source": [
        "seed_urls = ['https://inshorts.com/en/read/technology',\n",
        "             'https://inshorts.com/en/read/sports',\n",
        "             'https://inshorts.com/en/read/world']"
      ],
      "execution_count": 0,
      "outputs": []
    },
    {
      "cell_type": "code",
      "metadata": {
        "id": "g0hy11ab-VvC",
        "colab_type": "code",
        "colab": {}
      },
      "source": [
        "def build_dataset(seed_urls):\n",
        "    news_data = []\n",
        "    for url in seed_urls:\n",
        "        news_category = url.split('/')[-1]\n",
        "        data = requests.get(url)\n",
        "        soup = BeautifulSoup(data.content, 'html.parser')\n",
        "        \n",
        "        news_articles = [{'news_headline': headline.find('span', \n",
        "                                                         attrs={\"itemprop\": \"headline\"}).string,\n",
        "                          'news_article': article.find('div', \n",
        "                                                       attrs={\"itemprop\": \"articleBody\"}).string,\n",
        "                          'news_category': news_category}\n",
        "                         \n",
        "                            for headline, article in \n",
        "                             zip(soup.find_all('div', \n",
        "                                               class_=[\"news-card-title news-right-box\"]),\n",
        "                                 soup.find_all('div', \n",
        "                                               class_=[\"news-card-content news-right-box\"]))\n",
        "                        ]\n",
        "        news_data.extend(news_articles)\n",
        "        \n",
        "    df_news =  pd.DataFrame(news_data)\n",
        "    df_news = df_news[['news_headline', 'news_article', 'news_category']]\n",
        "    return df_news"
      ],
      "execution_count": 0,
      "outputs": []
    },
    {
      "cell_type": "code",
      "metadata": {
        "id": "VllZoUZ2-V4p",
        "colab_type": "code",
        "colab": {
          "base_uri": "https://localhost:8080/",
          "height": 417
        },
        "outputId": "93046bcf-df50-474e-943f-d48ba3fbd54c"
      },
      "source": [
        "news_df = build_dataset(seed_urls)\n",
        "news_df.head(12)"
      ],
      "execution_count": 7,
      "outputs": [
        {
          "output_type": "execute_result",
          "data": {
            "text/html": [
              "<div>\n",
              "<style scoped>\n",
              "    .dataframe tbody tr th:only-of-type {\n",
              "        vertical-align: middle;\n",
              "    }\n",
              "\n",
              "    .dataframe tbody tr th {\n",
              "        vertical-align: top;\n",
              "    }\n",
              "\n",
              "    .dataframe thead th {\n",
              "        text-align: right;\n",
              "    }\n",
              "</style>\n",
              "<table border=\"1\" class=\"dataframe\">\n",
              "  <thead>\n",
              "    <tr style=\"text-align: right;\">\n",
              "      <th></th>\n",
              "      <th>news_headline</th>\n",
              "      <th>news_article</th>\n",
              "      <th>news_category</th>\n",
              "    </tr>\n",
              "  </thead>\n",
              "  <tbody>\n",
              "    <tr>\n",
              "      <th>0</th>\n",
              "      <td>Harvard prof becomes billionaire from stake in...</td>\n",
              "      <td>Harvard University medical professor Timothy S...</td>\n",
              "      <td>technology</td>\n",
              "    </tr>\n",
              "    <tr>\n",
              "      <th>1</th>\n",
              "      <td>IIT Delhi's coronavirus testing method approve...</td>\n",
              "      <td>IIT Delhi has become the first academic instit...</td>\n",
              "      <td>technology</td>\n",
              "    </tr>\n",
              "    <tr>\n",
              "      <th>2</th>\n",
              "      <td>Coronavirus outbreak is like World War, except...</td>\n",
              "      <td>Microsoft Co-founder Bill Gates has said the c...</td>\n",
              "      <td>technology</td>\n",
              "    </tr>\n",
              "    <tr>\n",
              "      <th>3</th>\n",
              "      <td>WhatsApp group helps airlift 'seriously ill' I...</td>\n",
              "      <td>A WhatsApp group, led by former Supreme Court ...</td>\n",
              "      <td>technology</td>\n",
              "    </tr>\n",
              "    <tr>\n",
              "      <th>4</th>\n",
              "      <td>Local is new global business plan, online-to-o...</td>\n",
              "      <td>On the announcement that Amazon India is letti...</td>\n",
              "      <td>technology</td>\n",
              "    </tr>\n",
              "    <tr>\n",
              "      <th>5</th>\n",
              "      <td>Twitter allows video of Trump's 'inject disinf...</td>\n",
              "      <td>Microblogging platform Twitter has said the vi...</td>\n",
              "      <td>technology</td>\n",
              "    </tr>\n",
              "    <tr>\n",
              "      <th>6</th>\n",
              "      <td>Porn images pop up during online training of 7...</td>\n",
              "      <td>An online training session for around 700 badm...</td>\n",
              "      <td>technology</td>\n",
              "    </tr>\n",
              "    <tr>\n",
              "      <th>7</th>\n",
              "      <td>More firms place curbs on use of Zoom despite ...</td>\n",
              "      <td>Even as Zoom announced it would update the app...</td>\n",
              "      <td>technology</td>\n",
              "    </tr>\n",
              "    <tr>\n",
              "      <th>8</th>\n",
              "      <td>Alphabet's Pichai makes ₹2,140 crore in 2019, ...</td>\n",
              "      <td>Google parent Alphabet has said that CEO Sunda...</td>\n",
              "      <td>technology</td>\n",
              "    </tr>\n",
              "    <tr>\n",
              "      <th>9</th>\n",
              "      <td>IIITM-K develops AI search engine for COVID-19...</td>\n",
              "      <td>The Indian Institute of Information Technology...</td>\n",
              "      <td>technology</td>\n",
              "    </tr>\n",
              "    <tr>\n",
              "      <th>10</th>\n",
              "      <td>Police test 'pandemic drone' to monitor public...</td>\n",
              "      <td>Westport Police Department partnered with Drag...</td>\n",
              "      <td>technology</td>\n",
              "    </tr>\n",
              "    <tr>\n",
              "      <th>11</th>\n",
              "      <td>Accusation of hacking China for virus info bas...</td>\n",
              "      <td>Vietnam's foreign ministry said, accusations t...</td>\n",
              "      <td>technology</td>\n",
              "    </tr>\n",
              "  </tbody>\n",
              "</table>\n",
              "</div>"
            ],
            "text/plain": [
              "                                        news_headline  ... news_category\n",
              "0   Harvard prof becomes billionaire from stake in...  ...    technology\n",
              "1   IIT Delhi's coronavirus testing method approve...  ...    technology\n",
              "2   Coronavirus outbreak is like World War, except...  ...    technology\n",
              "3   WhatsApp group helps airlift 'seriously ill' I...  ...    technology\n",
              "4   Local is new global business plan, online-to-o...  ...    technology\n",
              "5   Twitter allows video of Trump's 'inject disinf...  ...    technology\n",
              "6   Porn images pop up during online training of 7...  ...    technology\n",
              "7   More firms place curbs on use of Zoom despite ...  ...    technology\n",
              "8   Alphabet's Pichai makes ₹2,140 crore in 2019, ...  ...    technology\n",
              "9   IIITM-K develops AI search engine for COVID-19...  ...    technology\n",
              "10  Police test 'pandemic drone' to monitor public...  ...    technology\n",
              "11  Accusation of hacking China for virus info bas...  ...    technology\n",
              "\n",
              "[12 rows x 3 columns]"
            ]
          },
          "metadata": {
            "tags": []
          },
          "execution_count": 7
        }
      ]
    },
    {
      "cell_type": "code",
      "metadata": {
        "id": "wLRN1nFm-V-e",
        "colab_type": "code",
        "colab": {
          "base_uri": "https://localhost:8080/",
          "height": 87
        },
        "outputId": "71db5273-71ce-4807-ce04-d85380f839e4"
      },
      "source": [
        "news_df.news_category.value_counts()\n"
      ],
      "execution_count": 8,
      "outputs": [
        {
          "output_type": "execute_result",
          "data": {
            "text/plain": [
              "sports        25\n",
              "technology    25\n",
              "world         21\n",
              "Name: news_category, dtype: int64"
            ]
          },
          "metadata": {
            "tags": []
          },
          "execution_count": 8
        }
      ]
    },
    {
      "cell_type": "code",
      "metadata": {
        "id": "sin7R7Z4-0QD",
        "colab_type": "code",
        "colab": {
          "base_uri": "https://localhost:8080/",
          "height": 35
        },
        "outputId": "48a8766d-4d56-4d8b-bbc6-23146776facd"
      },
      "source": [
        "len(news_df)"
      ],
      "execution_count": 9,
      "outputs": [
        {
          "output_type": "execute_result",
          "data": {
            "text/plain": [
              "71"
            ]
          },
          "metadata": {
            "tags": []
          },
          "execution_count": 9
        }
      ]
    },
    {
      "cell_type": "code",
      "metadata": {
        "id": "3soxJRQf-0S9",
        "colab_type": "code",
        "colab": {
          "base_uri": "https://localhost:8080/",
          "height": 35
        },
        "outputId": "b42eac0e-56d6-4394-87c4-e13bea8e7666"
      },
      "source": [
        "brown.words()"
      ],
      "execution_count": 12,
      "outputs": [
        {
          "output_type": "execute_result",
          "data": {
            "text/plain": [
              "['The', 'Fulton', 'County', 'Grand', 'Jury', 'said', ...]"
            ]
          },
          "metadata": {
            "tags": []
          },
          "execution_count": 12
        }
      ]
    },
    {
      "cell_type": "code",
      "metadata": {
        "id": "X1yoswBE-0Wx",
        "colab_type": "code",
        "colab": {
          "base_uri": "https://localhost:8080/",
          "height": 89
        },
        "outputId": "a8ae9eb9-2b0d-43d1-8b42-a3bb827ea885"
      },
      "source": [
        "token_firsr_sent = sent_tokenize(news_df[\"news_article\"][0])\n",
        "token_firsr_sent"
      ],
      "execution_count": 51,
      "outputs": [
        {
          "output_type": "execute_result",
          "data": {
            "text/plain": [
              "[\"Harvard University medical professor Timothy Springer's net worth is now more than $1 billion according to Bloomberg after his early stake in biotech firm Moderna surged 162% this year through Wednesday.\",\n",
              " \"US-based Moderna's coronavirus vaccine is one of the first to begin human trials.\",\n",
              " 'He invested $5 million in Moderna and his stake is now worth more than $800 million.']"
            ]
          },
          "metadata": {
            "tags": []
          },
          "execution_count": 51
        }
      ]
    },
    {
      "cell_type": "code",
      "metadata": {
        "id": "5vGthBmP-0aF",
        "colab_type": "code",
        "colab": {
          "base_uri": "https://localhost:8080/",
          "height": 1000
        },
        "outputId": "7afc4b6e-53b2-4429-e5df-906c8c1797b0"
      },
      "source": [
        "first_tokenized_lowered = list(map(str.lower, word_tokenize(str(token_firsr_sent))))\n",
        "first_tokenized_lowered"
      ],
      "execution_count": 48,
      "outputs": [
        {
          "output_type": "execute_result",
          "data": {
            "text/plain": [
              "['[',\n",
              " '``',\n",
              " 'harvard',\n",
              " 'university',\n",
              " 'medical',\n",
              " 'professor',\n",
              " 'timothy',\n",
              " 'springer',\n",
              " \"'s\",\n",
              " 'net',\n",
              " 'worth',\n",
              " 'is',\n",
              " 'now',\n",
              " 'more',\n",
              " 'than',\n",
              " '$',\n",
              " '1',\n",
              " 'billion',\n",
              " 'according',\n",
              " 'to',\n",
              " 'bloomberg',\n",
              " 'after',\n",
              " 'his',\n",
              " 'early',\n",
              " 'stake',\n",
              " 'in',\n",
              " 'biotech',\n",
              " 'firm',\n",
              " 'moderna',\n",
              " 'surged',\n",
              " '162',\n",
              " '%',\n",
              " 'this',\n",
              " 'year',\n",
              " 'through',\n",
              " 'wednesday',\n",
              " '.',\n",
              " '``',\n",
              " ',',\n",
              " '``',\n",
              " 'us-based',\n",
              " 'moderna',\n",
              " \"'s\",\n",
              " 'coronavirus',\n",
              " 'vaccine',\n",
              " 'is',\n",
              " 'one',\n",
              " 'of',\n",
              " 'the',\n",
              " 'first',\n",
              " 'to',\n",
              " 'begin',\n",
              " 'human',\n",
              " 'trials',\n",
              " '.',\n",
              " '``',\n",
              " ',',\n",
              " \"'he\",\n",
              " 'invested',\n",
              " '$',\n",
              " '5',\n",
              " 'million',\n",
              " 'in',\n",
              " 'moderna',\n",
              " 'and',\n",
              " 'his',\n",
              " 'stake',\n",
              " 'is',\n",
              " 'now',\n",
              " 'worth',\n",
              " 'more',\n",
              " 'than',\n",
              " '$',\n",
              " '800',\n",
              " 'million',\n",
              " '.',\n",
              " \"'\",\n",
              " ']']"
            ]
          },
          "metadata": {
            "tags": []
          },
          "execution_count": 48
        }
      ]
    },
    {
      "cell_type": "code",
      "metadata": {
        "id": "FcLkjxkC-0fM",
        "colab_type": "code",
        "colab": {
          "base_uri": "https://localhost:8080/",
          "height": 55
        },
        "outputId": "198ab3e2-52d3-477e-9695-0341fa0ffbba"
      },
      "source": [
        "stopwords_en = stopwords.words('english')\n",
        "print(stopwords_en)"
      ],
      "execution_count": 35,
      "outputs": [
        {
          "output_type": "stream",
          "text": [
            "['i', 'me', 'my', 'myself', 'we', 'our', 'ours', 'ourselves', 'you', \"you're\", \"you've\", \"you'll\", \"you'd\", 'your', 'yours', 'yourself', 'yourselves', 'he', 'him', 'his', 'himself', 'she', \"she's\", 'her', 'hers', 'herself', 'it', \"it's\", 'its', 'itself', 'they', 'them', 'their', 'theirs', 'themselves', 'what', 'which', 'who', 'whom', 'this', 'that', \"that'll\", 'these', 'those', 'am', 'is', 'are', 'was', 'were', 'be', 'been', 'being', 'have', 'has', 'had', 'having', 'do', 'does', 'did', 'doing', 'a', 'an', 'the', 'and', 'but', 'if', 'or', 'because', 'as', 'until', 'while', 'of', 'at', 'by', 'for', 'with', 'about', 'against', 'between', 'into', 'through', 'during', 'before', 'after', 'above', 'below', 'to', 'from', 'up', 'down', 'in', 'out', 'on', 'off', 'over', 'under', 'again', 'further', 'then', 'once', 'here', 'there', 'when', 'where', 'why', 'how', 'all', 'any', 'both', 'each', 'few', 'more', 'most', 'other', 'some', 'such', 'no', 'nor', 'not', 'only', 'own', 'same', 'so', 'than', 'too', 'very', 's', 't', 'can', 'will', 'just', 'don', \"don't\", 'should', \"should've\", 'now', 'd', 'll', 'm', 'o', 're', 've', 'y', 'ain', 'aren', \"aren't\", 'couldn', \"couldn't\", 'didn', \"didn't\", 'doesn', \"doesn't\", 'hadn', \"hadn't\", 'hasn', \"hasn't\", 'haven', \"haven't\", 'isn', \"isn't\", 'ma', 'mightn', \"mightn't\", 'mustn', \"mustn't\", 'needn', \"needn't\", 'shan', \"shan't\", 'shouldn', \"shouldn't\", 'wasn', \"wasn't\", 'weren', \"weren't\", 'won', \"won't\", 'wouldn', \"wouldn't\"]\n"
          ],
          "name": "stdout"
        }
      ]
    },
    {
      "cell_type": "code",
      "metadata": {
        "id": "Jcia6Ieq-0dD",
        "colab_type": "code",
        "colab": {}
      },
      "source": [
        "stopwords_en = set(stopwords.words('english'))"
      ],
      "execution_count": 0,
      "outputs": []
    },
    {
      "cell_type": "code",
      "metadata": {
        "id": "DGN9LBjBB6of",
        "colab_type": "code",
        "colab": {
          "base_uri": "https://localhost:8080/",
          "height": 1000
        },
        "outputId": "ee921a14-f9f3-45da-f120-4db45129a897"
      },
      "source": [
        "#try to remove the stopwords from the first article\n",
        " b = [word for word in first_tokenized_lowered if word not in stopwords_en]\n",
        " b"
      ],
      "execution_count": 52,
      "outputs": [
        {
          "output_type": "execute_result",
          "data": {
            "text/plain": [
              "['[',\n",
              " '``',\n",
              " 'harvard',\n",
              " 'university',\n",
              " 'medical',\n",
              " 'professor',\n",
              " 'timothy',\n",
              " 'springer',\n",
              " \"'s\",\n",
              " 'net',\n",
              " 'worth',\n",
              " '$',\n",
              " '1',\n",
              " 'billion',\n",
              " 'according',\n",
              " 'bloomberg',\n",
              " 'early',\n",
              " 'stake',\n",
              " 'biotech',\n",
              " 'firm',\n",
              " 'moderna',\n",
              " 'surged',\n",
              " '162',\n",
              " '%',\n",
              " 'year',\n",
              " 'wednesday',\n",
              " '.',\n",
              " '``',\n",
              " ',',\n",
              " '``',\n",
              " 'us-based',\n",
              " 'moderna',\n",
              " \"'s\",\n",
              " 'coronavirus',\n",
              " 'vaccine',\n",
              " 'one',\n",
              " 'first',\n",
              " 'begin',\n",
              " 'human',\n",
              " 'trials',\n",
              " '.',\n",
              " '``',\n",
              " ',',\n",
              " \"'he\",\n",
              " 'invested',\n",
              " '$',\n",
              " '5',\n",
              " 'million',\n",
              " 'moderna',\n",
              " 'stake',\n",
              " 'worth',\n",
              " '$',\n",
              " '800',\n",
              " 'million',\n",
              " '.',\n",
              " \"'\",\n",
              " ']']"
            ]
          },
          "metadata": {
            "tags": []
          },
          "execution_count": 52
        }
      ]
    },
    {
      "cell_type": "code",
      "metadata": {
        "id": "lSTaSPfDB6uF",
        "colab_type": "code",
        "colab": {
          "base_uri": "https://localhost:8080/",
          "height": 35
        },
        "outputId": "b47f7de5-254b-4e59-b155-1c2891d5d537"
      },
      "source": [
        "print(punctuation)"
      ],
      "execution_count": 55,
      "outputs": [
        {
          "output_type": "stream",
          "text": [
            "!\"#$%&'()*+,-./:;<=>?@[\\]^_`{|}~\n"
          ],
          "name": "stdout"
        }
      ]
    },
    {
      "cell_type": "code",
      "metadata": {
        "id": "Yzu2Pt8pB6xd",
        "colab_type": "code",
        "colab": {
          "base_uri": "https://localhost:8080/",
          "height": 55
        },
        "outputId": "9eda8466-cfe5-485b-e47c-deded3b40d33"
      },
      "source": [
        "stopwords_en_pluspunct = stopwords_en.union(set(punctuation))\n",
        "print(stopwords_en_pluspunct)"
      ],
      "execution_count": 57,
      "outputs": [
        {
          "output_type": "stream",
          "text": [
            "{'most', 'before', 'has', \"weren't\", '@', 'yourself', 'that', 'theirs', 'then', 'having', 'so', \"it's\", 'hers', 'the', 'but', 'hadn', '(', 'and', \"isn't\", \"mustn't\", 'who', 'here', 'them', \"you're\", 'ourselves', \"should've\", '.', 'it', 'ma', 'do', 'any', 'now', 'its', \"don't\", 'himself', \"didn't\", \"you'd\", 'he', \"that'll\", 'through', 'doesn', 't', 'under', \"hadn't\", ':', 'only', 'further', \"shouldn't\", 'to', 'too', 'was', 'down', 'can', 'd', 'above', 'against', ')', 'a', 'until', '/', '#', 'between', 'there', 'not', '>', 'being', 'own', 'did', 'such', 'other', ']', 'yours', 'with', 'will', 'than', 'itself', 'at', \"you've\", 'by', 'into', 'in', 'themselves', \"wouldn't\", 'what', 'is', \"hasn't\", 'you', '$', 'their', 'when', 'ain', 'of', 'our', 'herself', 'don', 'or', '~', 'were', \"you'll\", '%', 'doing', '\"', 'my', \"aren't\", 'few', 'should', '&', '}', \"haven't\", 'each', 'for', 'we', '=', 'no', '<', 'off', \"'\", 'just', 'o', 's', 'mightn', '^', 'hasn', 'how', 'isn', '|', 'below', 'mustn', 'after', 'all', 'wouldn', 'me', '\\\\', \"shan't\", 'if', 'his', 'aren', 'couldn', 'myself', ',', '`', 'these', '-', 'didn', 'y', 'm', 're', 'needn', 'some', 'does', 'whom', 'wasn', 'during', 'her', 'an', \"couldn't\", 'won', 'on', 'll', '*', \"wasn't\", 'over', '!', 'have', \"mightn't\", 'same', 'from', '_', \"won't\", 'those', '[', 'once', 'your', 'which', 'be', 'yourselves', 've', 'been', 'him', 'she', 'why', \"doesn't\", ';', 'more', 'both', 'haven', '{', 'am', 'nor', '?', '+', 'shan', 'out', 'again', \"needn't\", 'up', \"she's\", 'ours', 'are', 'about', 'i', 'as', 'very', 'shouldn', 'this', 'because', 'where', 'while', 'had', 'weren', 'they'}\n"
          ],
          "name": "stdout"
        }
      ]
    },
    {
      "cell_type": "code",
      "metadata": {
        "id": "2i-_UmCCFldZ",
        "colab_type": "code",
        "colab": {
          "base_uri": "https://localhost:8080/",
          "height": 55
        },
        "outputId": "48ff4a47-9733-4cb5-870c-45c8a16ce68c"
      },
      "source": [
        "print([word for word in b if word not in stopwords_en_pluspunct])"
      ],
      "execution_count": 58,
      "outputs": [
        {
          "output_type": "stream",
          "text": [
            "['``', 'harvard', 'university', 'medical', 'professor', 'timothy', 'springer', \"'s\", 'net', 'worth', '1', 'billion', 'according', 'bloomberg', 'early', 'stake', 'biotech', 'firm', 'moderna', 'surged', '162', 'year', 'wednesday', '``', '``', 'us-based', 'moderna', \"'s\", 'coronavirus', 'vaccine', 'one', 'first', 'begin', 'human', 'trials', '``', \"'he\", 'invested', '5', 'million', 'moderna', 'stake', 'worth', '800', 'million']\n"
          ],
          "name": "stdout"
        }
      ]
    },
    {
      "cell_type": "code",
      "metadata": {
        "id": "psAd4nPmFljL",
        "colab_type": "code",
        "colab": {}
      },
      "source": [
        "agin = [word for word in b if word not in stopwords_en_pluspunct]"
      ],
      "execution_count": 0,
      "outputs": []
    },
    {
      "cell_type": "code",
      "metadata": {
        "id": "qOaguBWoFlmM",
        "colab_type": "code",
        "colab": {
          "base_uri": "https://localhost:8080/",
          "height": 87
        },
        "outputId": "238892a3-9319-4a58-92e5-d68764797ed9"
      },
      "source": [
        "porter = PorterStemmer()\n",
        "\n",
        "for word in [\"walking\", \"walks\", \"walked\",\"walkes\"]:\n",
        "    print(porter.stem(word),\"in the rain\")"
      ],
      "execution_count": 70,
      "outputs": [
        {
          "output_type": "stream",
          "text": [
            "walk in the rain\n",
            "walk in the rain\n",
            "walk in the rain\n",
            "walk in the rain\n"
          ],
          "name": "stdout"
        }
      ]
    },
    {
      "cell_type": "code",
      "metadata": {
        "id": "0aiB405QOsss",
        "colab_type": "code",
        "colab": {
          "base_uri": "https://localhost:8080/",
          "height": 87
        },
        "outputId": "d9193896-db24-45b7-ebad-6ad0eb8b53c6"
      },
      "source": [
        "wnl_try = WordNetLemmatizer()\n",
        "\n",
        "for word in [\"walking\", \"walks\", \"walked\",\"walkes\"]:\n",
        "    print(wnl_try.lemmatize(word))\n"
      ],
      "execution_count": 75,
      "outputs": [
        {
          "output_type": "stream",
          "text": [
            "walking\n",
            "walk\n",
            "walked\n",
            "walkes\n"
          ],
          "name": "stdout"
        }
      ]
    },
    {
      "cell_type": "code",
      "metadata": {
        "id": "eOsi31mQOsw4",
        "colab_type": "code",
        "colab": {}
      },
      "source": [
        ""
      ],
      "execution_count": 0,
      "outputs": []
    }
  ]
}